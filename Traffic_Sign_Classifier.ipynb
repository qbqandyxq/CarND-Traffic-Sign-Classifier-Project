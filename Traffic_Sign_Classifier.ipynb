{
 "cells": [
  {
   "cell_type": "markdown",
   "metadata": {},
   "source": [
    "# Self-Driving Car Engineer Nanodegree\n",
    "\n",
    "## Deep Learning\n",
    "\n",
    "## Project: Build a Traffic Sign Recognition Classifier\n",
    "\n",
    "In this notebook, a template is provided for you to implement your functionality in stages, which is required to successfully complete this project. If additional code is required that cannot be included in the notebook, be sure that the Python code is successfully imported and included in your submission if necessary. \n",
    "\n",
    "> **Note**: Once you have completed all of the code implementations, you need to finalize your work by exporting the iPython Notebook as an HTML document. Before exporting the notebook to html, all of the code cells need to have been run so that reviewers can see the final implementation and output. You can then export the notebook by using the menu above and navigating to  \\n\",\n",
    "    \"**File -> Download as -> HTML (.html)**. Include the finished document along with this notebook as your submission. \n",
    "\n",
    "In addition to implementing code, there is a writeup to complete. The writeup should be completed in a separate file, which can be either a markdown file or a pdf document. There is a [write up template](https://github.com/udacity/CarND-Traffic-Sign-Classifier-Project/blob/master/writeup_template.md) that can be used to guide the writing process. Completing the code template and writeup template will cover all of the [rubric points](https://review.udacity.com/#!/rubrics/481/view) for this project.\n",
    "\n",
    "The [rubric](https://review.udacity.com/#!/rubrics/481/view) contains \"Stand Out Suggestions\" for enhancing the project beyond the minimum requirements. The stand out suggestions are optional. If you decide to pursue the \"stand out suggestions\", you can include the code in this Ipython notebook and also discuss the results in the writeup file.\n",
    "\n",
    "\n",
    ">**Note:** Code and Markdown cells can be executed using the **Shift + Enter** keyboard shortcut. In addition, Markdown cells can be edited by typically double-clicking the cell to enter edit mode."
   ]
  },
  {
   "cell_type": "markdown",
   "metadata": {},
   "source": [
    "---\n",
    "## Step 0: Load The Data"
   ]
  },
  {
   "cell_type": "code",
   "execution_count": 1,
   "metadata": {
    "collapsed": false
   },
   "outputs": [],
   "source": [
    "# Load pickled data\n",
    "import pickle\n",
    "\n",
    "# TODO: Fill this in based on where you saved the training and testing data\n",
    "\n",
    "training_file = '/nfshome/xueqin/udalearn/data/data_traffic/train.p'\n",
    "validation_file='/nfshome/xueqin/udalearn/data/data_traffic/valid.p'\n",
    "testing_file = '/nfshome/xueqin/udalearn/data/data_traffic/test.p'\n",
    "\n",
    "with open(training_file, mode='rb') as f:\n",
    "    train = pickle.load(f)\n",
    "with open(validation_file, mode='rb') as f:\n",
    "    valid = pickle.load(f)\n",
    "with open(testing_file, mode='rb') as f:\n",
    "    test = pickle.load(f)\n",
    "    \n",
    "X_train, y_train = train['features'], train['labels']\n",
    "X_valid, y_valid = valid['features'], valid['labels']\n",
    "X_test, y_test = test['features'], test['labels']"
   ]
  },
  {
   "cell_type": "markdown",
   "metadata": {},
   "source": [
    "---\n",
    "\n",
    "## Step 1: Dataset Summary & Exploration\n",
    "\n",
    "The pickled data is a dictionary with 4 key/value pairs:\n",
    "\n",
    "- `'features'` is a 4D array containing raw pixel data of the traffic sign images, (num examples, width, height, channels).\n",
    "- `'labels'` is a 1D array containing the label/class id of the traffic sign. The file `signnames.csv` contains id -> name mappings for each id.\n",
    "- `'sizes'` is a list containing tuples, (width, height) representing the original width and height the image.\n",
    "- `'coords'` is a list containing tuples, (x1, y1, x2, y2) representing coordinates of a bounding box around the sign in the image. **THESE COORDINATES ASSUME THE ORIGINAL IMAGE. THE PICKLED DATA CONTAINS RESIZED VERSIONS (32 by 32) OF THESE IMAGES**\n",
    "\n",
    "Complete the basic data summary below. Use python, numpy and/or pandas methods to calculate the data summary rather than hard coding the results. For example, the [pandas shape method](http://pandas.pydata.org/pandas-docs/stable/generated/pandas.DataFrame.shape.html) might be useful for calculating some of the summary results. "
   ]
  },
  {
   "cell_type": "markdown",
   "metadata": {},
   "source": [
    "### Provide a Basic Summary of the Data Set Using Python, Numpy and/or Pandas"
   ]
  },
  {
   "cell_type": "code",
   "execution_count": 2,
   "metadata": {
    "collapsed": true
   },
   "outputs": [
    {
     "name": "stdout",
     "output_type": "stream",
     "text": [
      "Number of training examples = 34799\n",
      "Number of testing examples = 12630\n",
      "Image data shape = 32\n",
      "Number of classes = 43\n"
     ]
    }
   ],
   "source": [
    "### Replace each question mark with the appropriate value. \n",
    "### Use python, pandas or numpy methods rather than hard coding the results\n",
    "\n",
    "# TODO: Number of training examples\n",
    "n_train = X_train.shape[0]\n",
    "\n",
    "# TODO: Number of validation examples\n",
    "n_validation = X_valid.shape[0]\n",
    "\n",
    "# TODO: Number of testing examples.\n",
    "n_test = X_test.shape[0]\n",
    "\n",
    "# TODO: What's the shape of an traffic sign image?\n",
    "image_shape = X_train.shape[1]\n",
    "\n",
    "# TODO: How many unique classes/labels there are in the dataset.\n",
    "n_classes = len(set(y_train))\n",
    "\n",
    "print(\"Number of training examples =\", n_train)\n",
    "print(\"Number of testing examples =\", n_test)\n",
    "print(\"Image data shape =\", image_shape)\n",
    "print(\"Number of classes =\", n_classes)"
   ]
  },
  {
   "cell_type": "markdown",
   "metadata": {},
   "source": [
    "### Include an exploratory visualization of the dataset"
   ]
  },
  {
   "cell_type": "markdown",
   "metadata": {},
   "source": [
    "Visualize the German Traffic Signs Dataset using the pickled file(s). This is open ended, suggestions include: plotting traffic sign images, plotting the count of each sign, etc. \n",
    "\n",
    "The [Matplotlib](http://matplotlib.org/) [examples](http://matplotlib.org/examples/index.html) and [gallery](http://matplotlib.org/gallery.html) pages are a great resource for doing visualizations in Python.\n",
    "\n",
    "**NOTE:** It's recommended you start with something simple first. If you wish to do more, come back to it after you've completed the rest of the sections. It can be interesting to look at the distribution of classes in the training, validation and test set. Is the distribution the same? Are there more examples of some classes than others?"
   ]
  },
  {
   "cell_type": "code",
   "execution_count": 3,
   "metadata": {
    "collapsed": true
   },
   "outputs": [],
   "source": [
    "### Data exploration visualization code goes here.\n",
    "### Feel free to use as many code cells as needed.\n",
    "import matplotlib.pyplot as plt\n",
    "# Visualizations will be shown in the notebook.\n",
    "%matplotlib inline"
   ]
  },
  {
   "cell_type": "markdown",
   "metadata": {},
   "source": [
    "----\n",
    "\n",
    "## Step 2: Design and Test a Model Architecture\n",
    "\n",
    "Design and implement a deep learning model that learns to recognize traffic signs. Train and test your model on the [German Traffic Sign Dataset](http://benchmark.ini.rub.de/?section=gtsrb&subsection=dataset).\n",
    "\n",
    "The LeNet-5 implementation shown in the [classroom](https://classroom.udacity.com/nanodegrees/nd013/parts/fbf77062-5703-404e-b60c-95b78b2f3f9e/modules/6df7ae49-c61c-4bb2-a23e-6527e69209ec/lessons/601ae704-1035-4287-8b11-e2c2716217ad/concepts/d4aca031-508f-4e0b-b493-e7b706120f81) at the end of the CNN lesson is a solid starting point. You'll have to change the number of classes and possibly the preprocessing, but aside from that it's plug and play! \n",
    "\n",
    "With the LeNet-5 solution from the lecture, you should expect a validation set accuracy of about 0.89. To meet specifications, the validation set accuracy will need to be at least 0.93. It is possible to get an even higher accuracy, but 0.93 is the minimum for a successful project submission. \n",
    "\n",
    "There are various aspects to consider when thinking about this problem:\n",
    "\n",
    "- Neural network architecture (is the network over or underfitting?)\n",
    "- Play around preprocessing techniques (normalization, rgb to grayscale, etc)\n",
    "- Number of examples per label (some have more than others).\n",
    "- Generate fake data.\n",
    "\n",
    "Here is an example of a [published baseline model on this problem](http://yann.lecun.com/exdb/publis/pdf/sermanet-ijcnn-11.pdf). It's not required to be familiar with the approach used in the paper but, it's good practice to try to read papers like these."
   ]
  },
  {
   "cell_type": "markdown",
   "metadata": {},
   "source": [
    "### Pre-process the Data Set (normalization, grayscale, etc.)"
   ]
  },
  {
   "cell_type": "markdown",
   "metadata": {},
   "source": [
    "Minimally, the image data should be normalized so that the data has mean zero and equal variance. For image data, `(pixel - 128)/ 128` is a quick way to approximately normalize the data and can be used in this project. \n",
    "\n",
    "Other pre-processing steps are optional. You can try different techniques to see if it improves performance. \n",
    "\n",
    "Use the code cell (or multiple code cells, if necessary) to implement the first step of your project."
   ]
  },
  {
   "cell_type": "code",
   "execution_count": 4,
   "metadata": {},
   "outputs": [
    {
     "name": "stderr",
     "output_type": "stream",
     "text": [
      "/nfshome/xueqin/anaconda3/envs/ge/lib/python3.5/site-packages/h5py/__init__.py:36: FutureWarning: Conversion of the second argument of issubdtype from `float` to `np.floating` is deprecated. In future, it will be treated as `np.float64 == np.dtype(float).type`.\n",
      "  from ._conv import register_converters as _register_converters\n"
     ]
    }
   ],
   "source": [
    "import tensorflow as tf\n",
    "import cv2\n",
    "import math\n",
    "import numpy as np\n",
    "import random"
   ]
  },
  {
   "cell_type": "code",
   "execution_count": 5,
   "metadata": {
    "collapsed": true
   },
   "outputs": [],
   "source": [
    "### Preprocess the data here. It is required to normalize the data. Other preprocessing steps could include \n",
    "### converting to grayscale, etc.\n",
    "### Feel free to use as many code cells as needed.\n",
    "\n",
    "def normal(x):\n",
    "    x = (x - 128)/128\n",
    "    return x\n",
    "X_train_2 = normal(X_train)\n",
    "X_valid_2 = normal(X_valid)\n",
    "X_test_2 = normal(X_test)"
   ]
  },
  {
   "cell_type": "code",
   "execution_count": 6,
   "metadata": {},
   "outputs": [],
   "source": [
    "xi = tf.placeholder(tf.float32, (None,32,32,3), name='input')\n",
    "yi = tf.placeholder(tf.int32, (None), name='lable')\n",
    "keep_prob = tf.placeholder(tf.float32, name='keep')"
   ]
  },
  {
   "cell_type": "markdown",
   "metadata": {},
   "source": [
    "### Model Architecture"
   ]
  },
  {
   "cell_type": "code",
   "execution_count": 7,
   "metadata": {
    "collapsed": true
   },
   "outputs": [],
   "source": [
    "### Define your architecture here.\n",
    "### Feel free to use as many code cells as needed.\n",
    "\n",
    "def model(x, keep_prob):\n",
    "    m=0.\n",
    "    s=0.1\n",
    "\n",
    "    conv1_w = tf.Variable(tf.truncated_normal(shape=(5,5,3,6), mean=m, stddev=s))\n",
    "    conv1_b = tf.Variable(tf.zeros(6))\n",
    "    conv1 = tf.nn.conv2d(x, conv1_w, strides=[1,1,1,1], padding='VALID') + conv1_b\n",
    "    conv1 = tf.nn.relu(conv1)\n",
    "    #28,28\n",
    "    pool1 = tf.nn.max_pool(conv1, ksize=[1,2,2,1] , strides=[1,2,2,1], padding='VALID')\n",
    "    #14,14\n",
    "    \n",
    "    conv2_w = tf.Variable(tf.truncated_normal(shape=(5,5,6,16), mean=m, stddev=s))\n",
    "    conv2_b = tf.Variable(tf.zeros(16))\n",
    "    conv2 = tf.nn.conv2d(pool1 ,conv2_w, strides=[1,1,1,1], padding='VALID') + conv2_b\n",
    "    conv2 = tf.nn.relu(conv2)\n",
    "    #10,10\n",
    "    pool2 = tf.nn.max_pool(conv2, ksize=[1,2,2,1] , strides=[1,2,2,1], padding='VALID')\n",
    "    #5,5,16\n",
    "    pool2 = tf.reshape(pool2, (-1,5*5*16))\n",
    "    \n",
    "    fc1_w = tf.Variable(tf.truncated_normal(shape=(400,128), mean=m, stddev=s))\n",
    "    fc1_b = tf.Variable(tf.zeros(128))\n",
    "    fc1 = tf.add(tf.matmul(pool2, fc1_w), fc1_b)\n",
    "    fc1 = tf.nn.relu(fc1)\n",
    "    fc1 = tf.nn.dropout(fc1, keep_prob)\n",
    "    \n",
    "    fc2_w = tf.Variable(tf.truncated_normal(shape=(128,64), mean=m, stddev=s))\n",
    "    fc2_b = tf.Variable(tf.zeros(64))\n",
    "    fc2 = tf.add(tf.matmul(fc1, fc2_w), fc2_b)\n",
    "    fc2 = tf.nn.relu(fc2)\n",
    "    fc2 = tf.nn.dropout(fc2, keep_prob)\n",
    "    \n",
    "    fc3_w = tf.Variable(tf.truncated_normal(shape=(64,43), mean=m, stddev=s))\n",
    "    fc3_b = tf.Variable(tf.zeros(43))\n",
    "    logit = tf.add(tf.matmul(fc2, fc3_w), fc3_b)\n",
    "    return logit"
   ]
  },
  {
   "cell_type": "markdown",
   "metadata": {},
   "source": [
    "### Train, Validate and Test the Model"
   ]
  },
  {
   "cell_type": "markdown",
   "metadata": {},
   "source": [
    "A validation set can be used to assess how well the model is performing. A low accuracy on the training and validation\n",
    "sets imply underfitting. A high accuracy on the training set but low accuracy on the validation set implies overfitting."
   ]
  },
  {
   "cell_type": "code",
   "execution_count": 8,
   "metadata": {},
   "outputs": [],
   "source": [
    "lr=1e-3\n",
    "batch_size=1024\n",
    "epochs=200\n",
    "def do_shuffle(x,y):\n",
    "    x2=[]\n",
    "    y2=[]\n",
    "    arr = np.arange(0 , x.shape[0])\n",
    "    random.shuffle(arr)\n",
    "    for i in arr:\n",
    "        x2.append(x[i])\n",
    "        y2.append(y[i])\n",
    "    return np.array(x2), np.array(y2)\n",
    "### Train your model here.\n",
    "### Calculate and report the accuracy on the training and validation set.\n",
    "### Once a final model architecture is selected, \n",
    "### the accuracy on the test set should be calculated and reported as well.\n",
    "### Feel free to use as many code cells as needed.\n",
    "logits = model(xi, keep_prob)\n",
    "output = tf.nn.softmax(logits)\n",
    "loss = tf.reduce_mean(tf.nn.sparse_softmax_cross_entropy_with_logits(labels=yi, logits=logits))\n",
    "optimizer = tf.train.AdamOptimizer(lr)\n",
    "# optimizer = tf.train.GradientDescentOptimizer(lr)\n",
    "opt = optimizer.minimize(loss)\n",
    "\n",
    "acc_ = tf.reduce_mean(tf.cast(tf.equal(tf.argmax(logits, 1, output_type=tf.int32), yi),tf.float32))"
   ]
  },
  {
   "cell_type": "code",
   "execution_count": 9,
   "metadata": {
    "collapsed": true
   },
   "outputs": [
    {
     "name": "stdout",
     "output_type": "stream",
     "text": [
      "epoch 1, the train acc is 0.04931176081299782,the valid acc is 0.04580498859286308\n",
      "epoch 2, the train acc is 0.051754359155893326,the valid acc is 0.049433108419179916\n",
      "epoch 3, the train acc is 0.05695565789937973,the valid acc is 0.05464852601289749\n",
      "epoch 4, the train acc is 0.056352194398641586,the valid acc is 0.05079365149140358\n",
      "epoch 5, the train acc is 0.07885283976793289,the valid acc is 0.06575963646173477\n",
      "epoch 6, the train acc is 0.05867984890937805,the valid acc is 0.055102039128541946\n",
      "epoch 7, the train acc is 0.06704215705394745,the valid acc is 0.06099773198366165\n",
      "epoch 8, the train acc is 0.08198511600494385,the valid acc is 0.07687074691057205\n",
      "epoch 9, the train acc is 0.08307710289955139,the valid acc is 0.07029478251934052\n",
      "epoch 10, the train acc is 0.086094431579113,the valid acc is 0.07460317760705948\n",
      "epoch 11, the train acc is 0.11100893467664719,the valid acc is 0.07709750533103943\n",
      "epoch 12, the train acc is 0.10804907977581024,the valid acc is 0.11360543966293335\n",
      "epoch 13, the train acc is 0.13914193212985992,the valid acc is 0.10204081982374191\n",
      "epoch 14, the train acc is 0.14454437792301178,the valid acc is 0.1061224490404129\n",
      "epoch 15, the train acc is 0.1490272730588913,the valid acc is 0.10884353518486023\n",
      "epoch 16, the train acc is 0.16026322543621063,the valid acc is 0.10997732728719711\n",
      "epoch 17, the train acc is 0.18405701220035553,the valid acc is 0.13718821108341217\n",
      "epoch 18, the train acc is 0.16069427132606506,the valid acc is 0.13900226354599\n",
      "epoch 19, the train acc is 0.21509239077568054,the valid acc is 0.16825397312641144\n",
      "epoch 20, the train acc is 0.23848386108875275,the valid acc is 0.18866212666034698\n",
      "epoch 21, the train acc is 0.23802408576011658,the valid acc is 0.19591836631298065\n",
      "epoch 22, the train acc is 0.2573924660682678,the valid acc is 0.19297051429748535\n",
      "epoch 23, the train acc is 0.26141557097435,the valid acc is 0.20907029509544373\n",
      "epoch 24, the train acc is 0.2410414069890976,the valid acc is 0.2052154242992401\n",
      "epoch 25, the train acc is 0.2764447331428528,the valid acc is 0.20408163964748383\n",
      "epoch 26, the train acc is 0.28193339705467224,the valid acc is 0.2022675722837448\n",
      "epoch 27, the train acc is 0.2974798083305359,the valid acc is 0.24126984179019928\n",
      "epoch 28, the train acc is 0.30385929346084595,the valid acc is 0.2471655309200287\n",
      "epoch 29, the train acc is 0.340843141078949,the valid acc is 0.2829931974411011\n",
      "epoch 30, the train acc is 0.35842984914779663,the valid acc is 0.29319727420806885\n",
      "epoch 31, the train acc is 0.37274059653282166,the valid acc is 0.2836734652519226\n",
      "epoch 32, the train acc is 0.38368919491767883,the valid acc is 0.2888889014720917\n",
      "epoch 33, the train acc is 0.38751113414764404,the valid acc is 0.29319727420806885\n",
      "epoch 34, the train acc is 0.40636226534843445,the valid acc is 0.3256235718727112\n",
      "epoch 35, the train acc is 0.437771201133728,the valid acc is 0.37437641620635986\n",
      "epoch 36, the train acc is 0.46110519766807556,the valid acc is 0.38820862770080566\n",
      "epoch 37, the train acc is 0.46035805344581604,the valid acc is 0.3712018132209778\n",
      "epoch 38, the train acc is 0.45702463388442993,the valid acc is 0.36643990874290466\n",
      "epoch 39, the train acc is 0.48303112387657166,the valid acc is 0.39523810148239136\n",
      "epoch 40, the train acc is 0.4788356125354767,the valid acc is 0.3929705321788788\n",
      "epoch 41, the train acc is 0.4918532073497772,the valid acc is 0.4095238149166107\n",
      "epoch 42, the train acc is 0.49099111557006836,the valid acc is 0.39433106780052185\n",
      "epoch 43, the train acc is 0.5067674517631531,the valid acc is 0.40702947974205017\n",
      "epoch 44, the train acc is 0.49254289269447327,the valid acc is 0.38027212023735046\n",
      "epoch 45, the train acc is 0.4923417270183563,the valid acc is 0.38367345929145813\n",
      "epoch 46, the train acc is 0.499152272939682,the valid acc is 0.39546486735343933\n",
      "epoch 47, the train acc is 0.5104169845581055,the valid acc is 0.40612244606018066\n",
      "epoch 48, the train acc is 0.5313370823860168,the valid acc is 0.43129250407218933\n",
      "epoch 49, the train acc is 0.5453605055809021,the valid acc is 0.44784581661224365\n",
      "epoch 50, the train acc is 0.5613092184066772,the valid acc is 0.4730158746242523\n",
      "epoch 51, the train acc is 0.5691542625427246,the valid acc is 0.46961450576782227\n",
      "epoch 52, the train acc is 0.5769705772399902,the valid acc is 0.4752834439277649\n",
      "epoch 53, the train acc is 0.5780338644981384,the valid acc is 0.4721088409423828\n",
      "epoch 54, the train acc is 0.5878904461860657,the valid acc is 0.481859415769577\n",
      "epoch 55, the train acc is 0.5923733711242676,the valid acc is 0.4843537509441376\n",
      "epoch 56, the train acc is 0.601626455783844,the valid acc is 0.4918367266654968\n",
      "epoch 57, the train acc is 0.6104198694229126,the valid acc is 0.5013605356216431\n",
      "epoch 58, the train acc is 0.6174315214157104,the valid acc is 0.5056689381599426\n",
      "epoch 59, the train acc is 0.6243282556533813,the valid acc is 0.5133786797523499\n",
      "epoch 60, the train acc is 0.6326331496238708,the valid acc is 0.5192743539810181\n",
      "epoch 61, the train acc is 0.6374320983886719,the valid acc is 0.5319727659225464\n",
      "epoch 62, the train acc is 0.6400184035301208,the valid acc is 0.5326530337333679\n",
      "epoch 63, the train acc is 0.6466852426528931,the valid acc is 0.5419501066207886\n",
      "epoch 64, the train acc is 0.6425471901893616,the valid acc is 0.5365079641342163\n",
      "epoch 65, the train acc is 0.6255064606666565,the valid acc is 0.5170068144798279\n",
      "epoch 66, the train acc is 0.642690896987915,the valid acc is 0.5335600972175598\n",
      "epoch 67, the train acc is 0.6606224179267883,the valid acc is 0.5548752546310425\n",
      "epoch 68, the train acc is 0.6709963083267212,the valid acc is 0.5530612468719482\n",
      "epoch 69, the train acc is 0.6743872165679932,the valid acc is 0.5532879829406738\n",
      "epoch 70, the train acc is 0.6883818507194519,the valid acc is 0.5659863948822021\n",
      "epoch 71, the train acc is 0.6910830736160278,the valid acc is 0.5700680017471313\n",
      "epoch 72, the train acc is 0.6915428638458252,the valid acc is 0.5682539939880371\n",
      "epoch 73, the train acc is 0.69036465883255,the valid acc is 0.563265323638916\n",
      "epoch 74, the train acc is 0.6880370378494263,the valid acc is 0.5639455914497375\n",
      "epoch 75, the train acc is 0.7057673931121826,the valid acc is 0.5777778029441833\n",
      "epoch 76, the train acc is 0.7147331833839417,the valid acc is 0.5852607488632202\n",
      "epoch 77, the train acc is 0.7152504324913025,the valid acc is 0.5920634865760803\n",
      "epoch 78, the train acc is 0.7199057340621948,the valid acc is 0.5970521569252014\n",
      "epoch 79, the train acc is 0.7246760129928589,the valid acc is 0.6077097654342651\n",
      "epoch 80, the train acc is 0.7299922704696655,the valid acc is 0.6133787035942078\n",
      "epoch 81, the train acc is 0.7340728044509888,the valid acc is 0.6172335743904114\n",
      "epoch 82, the train acc is 0.7366878390312195,the valid acc is 0.6258503198623657\n",
      "epoch 83, the train acc is 0.7405385375022888,the valid acc is 0.6278911828994751\n",
      "epoch 84, the train acc is 0.7450788617134094,the valid acc is 0.6199546456336975\n",
      "epoch 85, the train acc is 0.7497629523277283,the valid acc is 0.6242630481719971\n",
      "epoch 86, the train acc is 0.7514296174049377,the valid acc is 0.6292517185211182\n",
      "epoch 87, the train acc is 0.7501652240753174,the valid acc is 0.6240362524986267\n",
      "epoch 88, the train acc is 0.7487283945083618,the valid acc is 0.6265305876731873\n",
      "epoch 89, the train acc is 0.7525216341018677,the valid acc is 0.6292517185211182\n",
      "epoch 90, the train acc is 0.7570619583129883,the valid acc is 0.6378684639930725\n",
      "epoch 91, the train acc is 0.7572631239891052,the valid acc is 0.646258533000946\n",
      "epoch 92, the train acc is 0.7656254768371582,the valid acc is 0.6523809432983398\n",
      "epoch 93, the train acc is 0.7689014077186584,the valid acc is 0.6560090780258179\n",
      "epoch 94, the train acc is 0.7781545519828796,the valid acc is 0.6591836810112\n",
      "epoch 95, the train acc is 0.7796488404273987,the valid acc is 0.6603174805641174\n",
      "epoch 96, the train acc is 0.7800511717796326,the valid acc is 0.6573696136474609\n",
      "epoch 97, the train acc is 0.7829247713088989,the valid acc is 0.6573696136474609\n",
      "epoch 98, the train acc is 0.7833271026611328,the valid acc is 0.6562358140945435\n",
      "epoch 99, the train acc is 0.7889594435691833,the valid acc is 0.6625850200653076\n",
      "epoch 100, the train acc is 0.7854823470115662,the valid acc is 0.6594104170799255\n",
      "epoch 101, the train acc is 0.7966895699501038,the valid acc is 0.6571428775787354\n",
      "epoch 102, the train acc is 0.8093048930168152,the valid acc is 0.6632652878761292\n",
      "epoch 103, the train acc is 0.8095347285270691,the valid acc is 0.662811815738678\n",
      "epoch 104, the train acc is 0.8133566975593567,the valid acc is 0.6643990874290466\n",
      "epoch 105, the train acc is 0.8185292482376099,the valid acc is 0.6727890968322754\n",
      "epoch 106, the train acc is 0.8045633435249329,the valid acc is 0.6702947616577148\n",
      "epoch 107, the train acc is 0.8231270909309387,the valid acc is 0.684353768825531\n",
      "epoch 108, the train acc is 0.828673243522644,the valid acc is 0.696371853351593\n",
      "epoch 109, the train acc is 0.8326963186264038,the valid acc is 0.698185920715332\n",
      "epoch 110, the train acc is 0.8339319825172424,the valid acc is 0.698639452457428\n",
      "epoch 111, the train acc is 0.837064266204834,the valid acc is 0.6997732520103455\n",
      "epoch 112, the train acc is 0.8399091958999634,the valid acc is 0.7065759897232056\n",
      "epoch 113, the train acc is 0.840455174446106,the valid acc is 0.7056689262390137\n",
      "epoch 114, the train acc is 0.8423230648040771,the valid acc is 0.7086167931556702\n",
      "epoch 115, the train acc is 0.8352251648902893,the valid acc is 0.7054421901702881\n",
      "epoch 116, the train acc is 0.8334722518920898,the valid acc is 0.7027210593223572\n",
      "epoch 117, the train acc is 0.8359723091125488,the valid acc is 0.7102040648460388\n",
      "epoch 118, the train acc is 0.8456277251243591,the valid acc is 0.717913806438446\n",
      "epoch 119, the train acc is 0.8504554629325867,the valid acc is 0.7199546694755554\n",
      "epoch 120, the train acc is 0.8485588431358337,the valid acc is 0.7181406021118164\n",
      "epoch 121, the train acc is 0.8528693318367004,the valid acc is 0.725623607635498\n",
      "epoch 122, the train acc is 0.8563464283943176,the valid acc is 0.7272108793258667\n",
      "epoch 123, the train acc is 0.8614902496337891,the valid acc is 0.7292516827583313\n",
      "epoch 124, the train acc is 0.8638179302215576,the valid acc is 0.7365079522132874\n",
      "epoch 125, the train acc is 0.8638466596603394,the valid acc is 0.738095223903656\n",
      "epoch 126, the train acc is 0.8660306334495544,the valid acc is 0.738095223903656\n",
      "epoch 127, the train acc is 0.8701399564743042,the valid acc is 0.7376417517662048\n",
      "epoch 128, the train acc is 0.8728411793708801,the valid acc is 0.7408163547515869\n",
      "epoch 129, the train acc is 0.8718641400337219,the valid acc is 0.741723358631134\n",
      "epoch 130, the train acc is 0.873961865901947,the valid acc is 0.7353741526603699\n",
      "epoch 131, the train acc is 0.869852602481842,the valid acc is 0.7297052145004272\n",
      "epoch 132, the train acc is 0.8648524284362793,the valid acc is 0.7188208699226379\n",
      "epoch 133, the train acc is 0.8675536513328552,the valid acc is 0.7235827445983887\n",
      "epoch 134, the train acc is 0.8731859922409058,the valid acc is 0.7303854823112488\n",
      "epoch 135, the train acc is 0.8798528909683228,the valid acc is 0.7369614243507385\n",
      "epoch 136, the train acc is 0.8775539398193359,the valid acc is 0.7346938848495483\n",
      "epoch 137, the train acc is 0.8832725286483765,the valid acc is 0.7367346882820129\n",
      "epoch 138, the train acc is 0.8820655941963196,the valid acc is 0.7414966225624084\n",
      "epoch 139, the train acc is 0.8826977610588074,the valid acc is 0.7408163547515869\n",
      "epoch 140, the train acc is 0.8846805691719055,the valid acc is 0.7408163547515869\n",
      "epoch 141, the train acc is 0.8879278302192688,the valid acc is 0.7426303625106812\n",
      "epoch 142, the train acc is 0.8902841806411743,the valid acc is 0.7473922967910767\n",
      "epoch 143, the train acc is 0.891404926776886,the valid acc is 0.7448979616165161\n",
      "epoch 144, the train acc is 0.8929279446601868,the valid acc is 0.7428571581840515\n",
      "epoch 145, the train acc is 0.8948245644569397,the valid acc is 0.7478458285331726\n",
      "epoch 146, the train acc is 0.8928417563438416,the valid acc is 0.7446712255477905\n",
      "epoch 147, the train acc is 0.8936463594436646,the valid acc is 0.7453514933586121\n",
      "epoch 148, the train acc is 0.8954280018806458,the valid acc is 0.7512471675872803\n",
      "epoch 149, the train acc is 0.8961176872253418,the valid acc is 0.7478458285331726\n",
      "epoch 150, the train acc is 0.8911175727844238,the valid acc is 0.7437641620635986\n",
      "epoch 151, the train acc is 0.8857438564300537,the valid acc is 0.7390022873878479\n",
      "epoch 152, the train acc is 0.8890485167503357,the valid acc is 0.7410430908203125\n",
      "epoch 153, the train acc is 0.898675262928009,the valid acc is 0.7551020383834839\n",
      "epoch 154, the train acc is 0.9010028839111328,the valid acc is 0.7523809671401978\n",
      "epoch 155, the train acc is 0.9053133726119995,the valid acc is 0.7532879710197449\n",
      "epoch 156, the train acc is 0.9039915204048157,the valid acc is 0.7553287744522095\n",
      "epoch 157, the train acc is 0.9064341187477112,the valid acc is 0.7594104409217834\n",
      "epoch 158, the train acc is 0.9046524167060852,the valid acc is 0.7580499053001404\n",
      "epoch 159, the train acc is 0.9068076610565186,the valid acc is 0.7612245082855225\n",
      "epoch 160, the train acc is 0.9057731628417969,the valid acc is 0.759637176990509\n",
      "epoch 161, the train acc is 0.906951367855072,the valid acc is 0.7573696374893188\n",
      "epoch 162, the train acc is 0.9076697826385498,the valid acc is 0.7603174448013306\n",
      "epoch 163, the train acc is 0.9072674512863159,the valid acc is 0.761904776096344\n",
      "epoch 164, the train acc is 0.9074398875236511,the valid acc is 0.7630385756492615\n",
      "epoch 165, the train acc is 0.9087042808532715,the valid acc is 0.7675737142562866\n",
      "epoch 166, the train acc is 0.9072674512863159,the valid acc is 0.7691609859466553\n",
      "epoch 167, the train acc is 0.9117790460586548,the valid acc is 0.7705215215682983\n",
      "epoch 168, the train acc is 0.9091066122055054,the valid acc is 0.7691609859466553\n",
      "epoch 169, the train acc is 0.9126986265182495,the valid acc is 0.774376392364502\n",
      "epoch 170, the train acc is 0.9140779972076416,the valid acc is 0.7718820571899414\n",
      "epoch 171, the train acc is 0.9123825430870056,the valid acc is 0.7662131786346436\n",
      "epoch 172, the train acc is 0.9149113297462463,the valid acc is 0.7689342498779297\n",
      "epoch 173, the train acc is 0.9165205955505371,the valid acc is 0.7714285850524902\n",
      "epoch 174, the train acc is 0.9152849316596985,the valid acc is 0.7682539820671082\n",
      "epoch 175, the train acc is 0.9146527051925659,the valid acc is 0.7721088528633118\n",
      "epoch 176, the train acc is 0.9126698970794678,the valid acc is 0.7687074542045593\n",
      "epoch 177, the train acc is 0.9114629626274109,the valid acc is 0.7691609859466553\n",
      "epoch 178, the train acc is 0.9147964119911194,the valid acc is 0.7714285850524902\n",
      "epoch 179, the train acc is 0.9124687314033508,the valid acc is 0.7653061151504517\n",
      "epoch 180, the train acc is 0.9132733941078186,the valid acc is 0.7628117799758911\n",
      "epoch 181, the train acc is 0.9158021807670593,the valid acc is 0.7628117799758911\n",
      "epoch 182, the train acc is 0.9138193726539612,the valid acc is 0.7662131786346436\n",
      "epoch 183, the train acc is 0.9198252558708191,the valid acc is 0.7718820571899414\n",
      "epoch 184, the train acc is 0.9188482165336609,the valid acc is 0.7700680494308472\n",
      "epoch 185, the train acc is 0.9239058494567871,the valid acc is 0.7766439914703369\n",
      "epoch 186, the train acc is 0.9231012463569641,the valid acc is 0.7770975232124329\n",
      "epoch 187, the train acc is 0.9260323643684387,the valid acc is 0.7811791300773621\n",
      "epoch 188, the train acc is 0.9270381331443787,the valid acc is 0.7784580588340759\n",
      "epoch 189, the train acc is 0.9256300330162048,the valid acc is 0.7807255983352661\n",
      "epoch 190, the train acc is 0.9275553822517395,the valid acc is 0.783446729183197\n",
      "epoch 191, the train acc is 0.9298830628395081,the valid acc is 0.7863945364952087\n",
      "epoch 192, the train acc is 0.9310324788093567,the valid acc is 0.7884353995323181\n",
      "epoch 193, the train acc is 0.9309750199317932,the valid acc is 0.7873015999794006\n",
      "epoch 194, the train acc is 0.9316359758377075,the valid acc is 0.7911564707756042\n",
      "epoch 195, the train acc is 0.9312336444854736,the valid acc is 0.7884353995323181\n",
      "epoch 196, the train acc is 0.9324405789375305,the valid acc is 0.7920634746551514\n",
      "epoch 197, the train acc is 0.9333314299583435,the valid acc is 0.7918367385864258\n",
      "epoch 198, the train acc is 0.9347682595252991,the valid acc is 0.7934240102767944\n",
      "epoch 199, the train acc is 0.9352280497550964,the valid acc is 0.7886621356010437\n",
      "epoch 200, the train acc is 0.9366648197174072,the valid acc is 0.7893424034118652\n",
      "test acc 0.7646081\n"
     ]
    }
   ],
   "source": [
    "init = tf.global_variables_initializer()\n",
    "\n",
    "# config = tf.ConfigProto(allow_soft_placement=True,log_device_placement=True)\n",
    "# sess2 = tf.Session(config=config) \n",
    "# with tf.Session(graph=g) as sess:  \n",
    "\n",
    "sess = tf.InteractiveSession()\n",
    "\n",
    "sess.run(init)\n",
    "total_acc=0\n",
    "for j in range(epochs):\n",
    "    for i in range(0,n_train//batch_size):\n",
    "        batch = X_train_2[i * batch_size: i * batch_size + batch_size],y_train[i * batch_size: i * batch_size + batch_size]\n",
    "#             batch = do_shuffle(batch[0], batch[1])\n",
    "        batch_x = batch[0]\n",
    "        batch_y = batch[1]\n",
    "        acc, _, loss_ = sess.run([acc_,opt,loss], feed_dict={xi:batch_x, yi:batch_y, keep_prob:0.5})\n",
    "    acc_train = sess.run(acc_, feed_dict={xi:X_train_2, yi:y_train, keep_prob:1.})\n",
    "    acc_valid = sess.run(acc_, feed_dict={xi:X_valid_2, yi:y_valid, keep_prob:1.})\n",
    "    print(\"epoch {}, the train acc is {},the valid acc is {}\".format(j+1, acc_train, acc_valid))\n",
    "       \n",
    "acc_test = sess.run(acc_, feed_dict={xi:X_test_2, yi:y_test, keep_prob:1})\n",
    "test_f = sess.run(output, feed_dict={xi:X_test_2[:5], yi:y_test[:5], keep_prob:1})\n",
    "print(\"test acc\", acc_test)"
   ]
  },
  {
   "cell_type": "markdown",
   "metadata": {},
   "source": [
    "---\n",
    "\n",
    "## Step 3: Test a Model on New Images\n",
    "\n",
    "To give yourself more insight into how your model is working, download at least five pictures of German traffic signs from the web and use your model to predict the traffic sign type.\n",
    "\n",
    "You may find `signnames.csv` useful as it contains mappings from the class id (integer) to the actual sign name."
   ]
  },
  {
   "cell_type": "markdown",
   "metadata": {},
   "source": [
    "### Load and Output the Images"
   ]
  },
  {
   "cell_type": "code",
   "execution_count": 10,
   "metadata": {
    "collapsed": true
   },
   "outputs": [
    {
     "name": "stdout",
     "output_type": "stream",
     "text": [
      "{'4': 'Speed limit (70km/h)', '30': 'Beware of ice/snow', '19': 'Dangerous curve to the left', '24': 'Road narrows on the right', '34': 'Turn left ahead', '23': 'Slippery road', '12': 'Priority road', '42': 'End of no passing by vehicles over 3.5 metric tons', '35': 'Ahead only', '27': 'Pedestrians', '33': 'Turn right ahead', '39': 'Keep left', '21': 'Double curve', '28': 'Children crossing', '17': 'No entry', '29': 'Bicycles crossing', '15': 'No vehicles', '11': 'Right-of-way at the next intersection', '37': 'Go straight or left', '2': 'Speed limit (50km/h)', '41': 'End of no passing', '5': 'Speed limit (80km/h)', '7': 'Speed limit (100km/h)', '1': 'Speed limit (30km/h)', '6': 'End of speed limit (80km/h)', '9': 'No passing', '31': 'Wild animals crossing', '25': 'Road work', '8': 'Speed limit (120km/h)', '16': 'Vehicles over 3.5 metric tons prohibited', '18': 'General caution', '26': 'Traffic signals', '36': 'Go straight or right', '0': 'Speed limit (20km/h)', '3': 'Speed limit (60km/h)', '20': 'Dangerous curve to the right', '10': 'No passing for vehicles over 3.5 metric tons', '38': 'Keep right', '22': 'Bumpy road', '14': 'Stop', '40': 'Roundabout mandatory', '32': 'End of all speed and passing limits', '13': 'Yield'}\n"
     ]
    }
   ],
   "source": [
    "### Load the images and plot them here.\n",
    "### Feel free to use as many code cells as needed.\n",
    "import csv\n",
    "csvFile = open(\"signnames.csv\", \"r\")\n",
    "reader = csv.reader(csvFile)\n",
    "\n",
    "# 建立空字典\n",
    "result = {}\n",
    "for item in reader:\n",
    "    # 忽略第一行\n",
    "    if reader.line_num == 1:\n",
    "        continue\n",
    "    result[item[0]] = item[1]\n",
    "\n",
    "csvFile.close()\n",
    "print(result)"
   ]
  },
  {
   "cell_type": "code",
   "execution_count": 13,
   "metadata": {},
   "outputs": [
    {
     "data": {
      "image/png": "[encoded data removed]",
      "text/plain": [
       "<Figure size 1152x648 with 5 Axes>"
      ]
     },
     "metadata": {},
     "output_type": "display_data"
    }
   ],
   "source": [
    "test_for_test=X_test[:5]\n",
    "for i in range(test_for_test.shape[0]):\n",
    "    image_arr = test_for_test[i]\n",
    "    title = str(y_test[i])\n",
    "    title_ = result[title]\n",
    "    plt.figure(num='show',figsize=(16,9))  \n",
    "    plt.subplot(3,2,i+1)\n",
    "    plt.title(title_)\n",
    "    plt.axis('off') \n",
    "    plt.imshow(image_arr)\n",
    "plt.show()"
   ]
  },
  {
   "cell_type": "markdown",
   "metadata": {},
   "source": [
    "### Predict the Sign Type for Each Image"
   ]
  },
  {
   "cell_type": "code",
   "execution_count": 14,
   "metadata": {
    "collapsed": true
   },
   "outputs": [
    {
     "name": "stdout",
     "output_type": "stream",
     "text": [
      "(5, 43)\n",
      "[12, 7, 23, 8, 4]\n",
      "Priority road  real is  Priority road\n",
      "Speed limit (100km/h)  real is  Speed limit (100km/h)\n",
      "Slippery road  real is  Slippery road\n",
      "Speed limit (120km/h)  real is  Speed limit (100km/h)\n",
      "Speed limit (70km/h)  real is  Speed limit (70km/h)\n"
     ]
    }
   ],
   "source": [
    "### Run the predictions here and use the model to output the prediction for each image.\n",
    "### Make sure to pre-process the images with the same pre-processing pipeline used earlier.\n",
    "### Feel free to use as many code cells as needed.\n",
    "def show_predict(p, y_p):\n",
    "    max_p = np.max(p,axis=1)\n",
    "    index=[]\n",
    "    for i in range(0, p.shape[0]):\n",
    "        for j in range(0, p.shape[1]):\n",
    "            if p[i][j] == max_p[i]:\n",
    "                index.append(j)\n",
    "    print(index)\n",
    "    for i in range(0, len(index)):\n",
    "        result_ = result[str(index[i])]\n",
    "        real_ = result[str(y_p[i])]\n",
    "        print(result_, \" real is \", real_)\n",
    "        \n",
    "        \n",
    "x_p = X_test_2[10:15]\n",
    "y_p = y_test[10:15]\n",
    "fina_output = sess.run(output, feed_dict={xi: x_p, yi:y_p, keep_prob:1})\n",
    "print(fina_output.shape)\n",
    "show_predict(fina_output, y_p)"
   ]
  },
  {
   "cell_type": "markdown",
   "metadata": {},
   "source": [
    "### Analyze Performance"
   ]
  },
  {
   "cell_type": "code",
   "execution_count": null,
   "metadata": {
    "collapsed": true
   },
   "outputs": [],
   "source": [
    "### Calculate the accuracy for these 5 new images. \n",
    "### For example, if the model predicted 1 out of 5 signs correctly, it's 20% accurate on these new images.\n",
    "\n",
    "# 80\n",
    "\n",
    "# succeed"
   ]
  },
  {
   "cell_type": "markdown",
   "metadata": {},
   "source": [
    "### Output Top 5 Softmax Probabilities For Each Image Found on the Web"
   ]
  },
  {
   "cell_type": "markdown",
   "metadata": {},
   "source": [
    "For each of the new images, print out the model's softmax probabilities to show the **certainty** of the model's predictions (limit the output to the top 5 probabilities for each image). [`tf.nn.top_k`](https://www.tensorflow.org/versions/r0.12/api_docs/python/nn.html#top_k) could prove helpful here. \n",
    "\n",
    "The example below demonstrates how tf.nn.top_k can be used to find the top k predictions for each image.\n",
    "\n",
    "`tf.nn.top_k` will return the values and indices (class ids) of the top k predictions. So if k=3, for each sign, it'll return the 3 largest probabilities (out of a possible 43) and the correspoding class ids.\n",
    "\n",
    "Take this numpy array as an example. The values in the array represent predictions. The array contains softmax probabilities for five candidate images with six possible classes. `tf.nn.top_k` is used to choose the three classes with the highest probability:\n",
    "\n",
    "```\n",
    "# (5, 6) array\n",
    "a = np.array([[ 0.24879643,  0.07032244,  0.12641572,  0.34763842,  0.07893497,\n",
    "         0.12789202],\n",
    "       [ 0.28086119,  0.27569815,  0.08594638,  0.0178669 ,  0.18063401,\n",
    "         0.15899337],\n",
    "       [ 0.26076848,  0.23664738,  0.08020603,  0.07001922,  0.1134371 ,\n",
    "         0.23892179],\n",
    "       [ 0.11943333,  0.29198961,  0.02605103,  0.26234032,  0.1351348 ,\n",
    "         0.16505091],\n",
    "       [ 0.09561176,  0.34396535,  0.0643941 ,  0.16240774,  0.24206137,\n",
    "         0.09155967]])\n",
    "```\n",
    "\n",
    "Running it through `sess.run(tf.nn.top_k(tf.constant(a), k=3))` produces:\n",
    "\n",
    "```\n",
    "TopKV2(values=array([[ 0.34763842,  0.24879643,  0.12789202],\n",
    "       [ 0.28086119,  0.27569815,  0.18063401],\n",
    "       [ 0.26076848,  0.23892179,  0.23664738],\n",
    "       [ 0.29198961,  0.26234032,  0.16505091],\n",
    "       [ 0.34396535,  0.24206137,  0.16240774]]), indices=array([[3, 0, 5],\n",
    "       [0, 1, 4],\n",
    "       [0, 5, 1],\n",
    "       [1, 3, 5],\n",
    "       [1, 4, 3]], dtype=int32))\n",
    "```\n",
    "\n",
    "Looking just at the first row we get `[ 0.34763842,  0.24879643,  0.12789202]`, you can confirm these are the 3 largest probabilities in `a`. You'll also notice `[3, 0, 5]` are the corresponding indices."
   ]
  },
  {
   "cell_type": "code",
   "execution_count": 3,
   "metadata": {
    "collapsed": true
   },
   "outputs": [],
   "source": [
    "### Print out the top five softmax probabilities for the predictions on the German traffic sign images found on the web. \n",
    "### Feel free to use as many code cells as needed."
   ]
  },
  {
   "cell_type": "markdown",
   "metadata": {},
   "source": [
    "### Project Writeup\n",
    "\n",
    "Once you have completed the code implementation, document your results in a project writeup using this [template](https://github.com/udacity/CarND-Traffic-Sign-Classifier-Project/blob/master/writeup_template.md) as a guide. The writeup can be in a markdown or pdf file. "
   ]
  },
  {
   "cell_type": "markdown",
   "metadata": {},
   "source": [
    "> **Note**: Once you have completed all of the code implementations and successfully answered each question above, you may finalize your work by exporting the iPython Notebook as an HTML document. You can do this by using the menu above and navigating to  \\n\",\n",
    "    \"**File -> Download as -> HTML (.html)**. Include the finished document along with this notebook as your submission."
   ]
  },
  {
   "cell_type": "markdown",
   "metadata": {},
   "source": [
    "---\n",
    "\n",
    "## Step 4 (Optional): Visualize the Neural Network's State with Test Images\n",
    "\n",
    " This Section is not required to complete but acts as an additional excersise for understaning the output of a neural network's weights. While neural networks can be a great learning device they are often referred to as a black box. We can understand what the weights of a neural network look like better by plotting their feature maps. After successfully training your neural network you can see what it's feature maps look like by plotting the output of the network's weight layers in response to a test stimuli image. From these plotted feature maps, it's possible to see what characteristics of an image the network finds interesting. For a sign, maybe the inner network feature maps react with high activation to the sign's boundary outline or to the contrast in the sign's painted symbol.\n",
    "\n",
    " Provided for you below is the function code that allows you to get the visualization output of any tensorflow weight layer you want. The inputs to the function should be a stimuli image, one used during training or a new one you provided, and then the tensorflow variable name that represents the layer's state during the training process, for instance if you wanted to see what the [LeNet lab's](https://classroom.udacity.com/nanodegrees/nd013/parts/fbf77062-5703-404e-b60c-95b78b2f3f9e/modules/6df7ae49-c61c-4bb2-a23e-6527e69209ec/lessons/601ae704-1035-4287-8b11-e2c2716217ad/concepts/d4aca031-508f-4e0b-b493-e7b706120f81) feature maps looked like for it's second convolutional layer you could enter conv2 as the tf_activation variable.\n",
    "\n",
    "For an example of what feature map outputs look like, check out NVIDIA's results in their paper [End-to-End Deep Learning for Self-Driving Cars](https://devblogs.nvidia.com/parallelforall/deep-learning-self-driving-cars/) in the section Visualization of internal CNN State. NVIDIA was able to show that their network's inner weights had high activations to road boundary lines by comparing feature maps from an image with a clear path to one without. Try experimenting with a similar test to show that your trained network's weights are looking for interesting features, whether it's looking at differences in feature maps from images with or without a sign, or even what feature maps look like in a trained network vs a completely untrained one on the same sign image.\n",
    "\n",
    "<figure>\n",
    " <img src=\"visualize_cnn.png\" width=\"380\" alt=\"Combined Image\" />\n",
    " <figcaption>\n",
    " <p></p> \n",
    " <p style=\"text-align: center;\"> Your output should look something like this (above)</p> \n",
    " </figcaption>\n",
    "</figure>\n",
    " <p></p> \n"
   ]
  },
  {
   "cell_type": "code",
   "execution_count": null,
   "metadata": {
    "collapsed": true
   },
   "outputs": [],
   "source": [
    "### Visualize your network's feature maps here.\n",
    "### Feel free to use as many code cells as needed.\n",
    "\n",
    "# image_input: the test image being fed into the network to produce the feature maps\n",
    "# tf_activation: should be a tf variable name used during your training procedure that represents the calculated state of a specific weight layer\n",
    "# activation_min/max: can be used to view the activation contrast in more detail, by default matplot sets min and max to the actual min and max values of the output\n",
    "# plt_num: used to plot out multiple different weight feature map sets on the same block, just extend the plt number for each new feature map entry\n",
    "\n",
    "def outputFeatureMap(image_input, tf_activation, activation_min=-1, activation_max=-1 ,plt_num=1):\n",
    "    # Here make sure to preprocess your image_input in a way your network expects\n",
    "    # with size, normalization, ect if needed\n",
    "    # image_input =\n",
    "    # Note: x should be the same name as your network's tensorflow data placeholder variable\n",
    "    # If you get an error tf_activation is not defined it may be having trouble accessing the variable from inside a function\n",
    "    activation = tf_activation.eval(session=sess,feed_dict={x : image_input})\n",
    "    featuremaps = activation.shape[3]\n",
    "    plt.figure(plt_num, figsize=(15,15))\n",
    "    for featuremap in range(featuremaps):\n",
    "        plt.subplot(6,8, featuremap+1) # sets the number of feature maps to show on each row and column\n",
    "        plt.title('FeatureMap ' + str(featuremap)) # displays the feature map number\n",
    "        if activation_min != -1 & activation_max != -1:\n",
    "            plt.imshow(activation[0,:,:, featuremap], interpolation=\"nearest\", vmin =activation_min, vmax=activation_max, cmap=\"gray\")\n",
    "        elif activation_max != -1:\n",
    "            plt.imshow(activation[0,:,:, featuremap], interpolation=\"nearest\", vmax=activation_max, cmap=\"gray\")\n",
    "        elif activation_min !=-1:\n",
    "            plt.imshow(activation[0,:,:, featuremap], interpolation=\"nearest\", vmin=activation_min, cmap=\"gray\")\n",
    "        else:\n",
    "            plt.imshow(activation[0,:,:, featuremap], interpolation=\"nearest\", cmap=\"gray\")"
   ]
  }
 ],
 "metadata": {
  "anaconda-cloud": {},
  "kernelspec": {
   "display_name": "Python [conda env:ge]",
   "language": "python",
   "name": "conda-env-ge-py"
  },
  "language_info": {
   "codemirror_mode": {
    "name": "ipython",
    "version": 3
   },
   "file_extension": ".py",
   "mimetype": "text/x-python",
   "name": "python",
   "nbconvert_exporter": "python",
   "pygments_lexer": "ipython3",
   "version": "3.5.5"
  }
 },
 "nbformat": 4,
 "nbformat_minor": 2
}
